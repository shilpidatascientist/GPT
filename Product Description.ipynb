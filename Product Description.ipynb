{
 "cells": [
  {
   "cell_type": "code",
   "execution_count": 1,
   "metadata": {},
   "outputs": [],
   "source": [
    "import os\n",
    "from langchain_openai import OpenAI\n",
    "\n",
    "from dotenv import load_dotenv\n",
    "# Load environment variables from the .env file\n",
    "load_dotenv()\n",
    "llm = OpenAI(model=\"gpt-4o-mini\")\n",
    "# Access the environment variables\n",
    "os.environ['OPENAI_API_KEY']=os.getenv(\"OPENAI_API_KEY\")\n"
   ]
  },
  {
   "cell_type": "code",
   "execution_count": 3,
   "metadata": {},
   "outputs": [
    {
     "name": "stdout",
     "output_type": "stream",
     "text": [
      "The Allen Solly Men's Slim Fit Shirt is priced at ₹759, reflecting a 53% discount from ₹1,599. It has a 3.7-star rating from over 15,000 reviews, with customers praising its comfort and fabric quality but noting issues with color and fit. The shirt is made of 100% cotton, suitable for business casual wear, and available in multiple sizes and colors. It also features a 10-day return policy, free delivery, and secure transaction assurances.\n"
     ]
    }
   ],
   "source": [
    "from langchain.chains.summarize import load_summarize_chain\n",
    "from langchain_community.document_loaders import WebBaseLoader\n",
    "\n",
    "loader = WebBaseLoader(\"https://www.amazon.in/Allen-Solly-Geometric-Regular-ASSFWMOFO48848_White_40/dp/B07DN1BJ51/ref=sr_1_7?dib=eyJ2IjoiMSJ9.OwjuWbty7K55vlQMtrCmZO213xg-D7feo9BTnLCz2ijwOo8w5cEIzIGLcvM9r6hO_LKiADj1t8tFG79-i40GARduayHjsuzDh6dd7bPOiJQXtVs-1a-cxYkJplVsLKvMp0oDRJ9iQ0PQCSj2BEBkwl97fwNLPhYNmKMecFbHghGONJey9DUBnpabhWd0Il8NnAALqBBNKYgDS5Jb2-O37NNSXyusytMzBCcKtjzkP-GehZjHWy9G0A9z9UmQuwNyKSVtGi3GXMxuEyPl3Rqhut-p44Pa9CY3H9nupR5IL08.eq0G4FHdiRyN6uOqllhwa0Qe4I3OBlmPwQ7oVZ3ymUE&dib_tag=se&keywords=white%2Bshirt&qid=1723014389&sr=8-7&th=1&psc=1\")\n",
    "docs = loader.load()\n",
    "\n",
    "llm = ChatOpenAI(temperature=0.8, model_name=\"gpt-4o-mini\")\n",
    "chain = load_summarize_chain(llm, chain_type=\"map_reduce\")\n",
    "\n",
    "print(chain.run(docs))\n"
   ]
  }
 ],
 "metadata": {
  "kernelspec": {
   "display_name": "myenv",
   "language": "python",
   "name": "python3"
  },
  "language_info": {
   "codemirror_mode": {
    "name": "ipython",
    "version": 3
   },
   "file_extension": ".py",
   "mimetype": "text/x-python",
   "name": "python",
   "nbconvert_exporter": "python",
   "pygments_lexer": "ipython3",
   "version": "3.12.4"
  }
 },
 "nbformat": 4,
 "nbformat_minor": 2
}
