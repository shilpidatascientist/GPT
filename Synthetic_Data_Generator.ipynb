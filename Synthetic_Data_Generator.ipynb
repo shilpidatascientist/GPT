{
 "cells": [
  {
   "cell_type": "markdown",
   "metadata": {},
   "source": [
    "***Synthetic Data Generator***"
   ]
  },
  {
   "cell_type": "code",
   "execution_count": 2,
   "metadata": {},
   "outputs": [],
   "source": [
    "# Access the environment variables\n",
    "import os\n",
    "from dotenv import load_dotenv\n",
    "import openai\n",
    "# Load environment variables from the .env file\n",
    "load_dotenv()\n",
    "# Set the API key for openai module\n",
    "openai.api_key = os.getenv(\"OPENAI_API_KEY\")\n",
    "datagen_model = \"gpt-4o-mini\"\n"
   ]
  },
  {
   "cell_type": "code",
   "execution_count": 22,
   "metadata": {},
   "outputs": [],
   "source": [
    "question = \"\"\"\n",
    "Create a CSV file with 10 rows of data for Loyalty customer segmentation.\n",
    "Please make sure to Increment customer_id by 1)\n",
    "\n",
    "Below are some examples:\n",
    "customer_id,age,gender,marital_status,household_size,education_level,occupation,income_level,location,state,country,proximity_to_branch,transaction_frequency,transaction_volume,transaction_type,atm_usage_patterns,online_banking_activity,channel_preferences,customer_service_interactions,product_engagement,savings_balance,checking_balance,investment_balance,credit_card_usage,loan_history,loan_repayment_behavior,investment_portfolio,credit_score,attitudes_towards_banking,financial_goals,risk_tolerance,spending_habits,interests_hobbies,customer_satisfaction_score,net_promoter_score,loyalty_program_participation,cross_selling_response_rate,inflation_rate,gdp_growth,social_media_behavior,online_shopping_habits,digital_engagement,major_life_events,significant_financial_milestones,survey_responses,preferred_communication_channels,product_feature_requests,risk_assessment_data,credit_risk_indicators\n",
    "1,58,Female,Divorced,1,College,Employed,High,Suburban,IL,USA,Moderate,16,4206.340823,Withdrawal,Frequent,Low,Mobile App,Medium,No,13368.17541,13061.09545,97915.05482,15169.31613,None,Good,Moderate,564,Neutral,Retirement Planning,Medium,Conservative,Travel,4,7,Yes,0.966555023,4.420679739,3.49800992,Moderate,Frequent,Low,None,Starting a Business,Negative,Phone,No,High Risk,Stable\n",
    "2,48,Male,Single,5,High School,Unemployed,Medium,Suburban,FL,UK,Close,4,7445.147601,Deposit,Occasional,Medium,Mobile App,Medium,Yes,39156.26218,11120.34283,77952.30138,12953.24219,Personal Loan,Poor,Aggressive,512,Negative,Wealth Accumulation,Low,Spender,Reading,3,0,Yes,0.027013223,0.698562805,3.376007483,Moderate,Frequent,High,Birth of a Child,None,Neutral,Phone,No,Medium Risk,High Risk\n",
    "3,34,Female,Married,4,Bachelor,Employed,High,Suburban,CA,Australia,Moderate,20,4128.995685,Deposit,Frequent,Low,Website,Medium,No,14904.16134,9869.701217,80841.59662,12899.97713,Personal Loan,Poor,Aggressive,796,Negative,Education Funding,Medium,Moderate,Music,2,7,Yes,0.396694502,2.606721384,0.339508535,Moderate,Occasional,Low,None,Buying a House,Neutral,Email,No,Low Risk,Warning\n",
    "\n",
    "\n",
    "\"\"\"\n"
   ]
  },
  {
   "cell_type": "code",
   "execution_count": 26,
   "metadata": {},
   "outputs": [
    {
     "name": "stdout",
     "output_type": "stream",
     "text": [
      "Here is a synthetic dataset created for loyalty customer segmentation, structured as a CSV file. Each customer has unique attributes, and the customer IDs increment by 1.\n",
      "\n",
      "```plaintext\n",
      "customer_id,age,gender,marital_status,household_size,education_level,occupation,income_level,location,state,country,proximity_to_branch,transaction_frequency,transaction_volume,transaction_type,atm_usage_patterns,online_banking_activity,channel_preferences,customer_service_interactions,product_engagement,savings_balance,checking_balance,investment_balance,credit_card_usage,loan_history,loan_repayment_behavior,investment_portfolio,credit_score,attitudes_towards_banking,financial_goals,risk_tolerance,spending_habits,interests\n"
     ]
    }
   ],
   "source": [
    "response = openai.chat.completions.create(\n",
    "  model=datagen_model,\n",
    "  messages=[\n",
    "    {\"role\": \"system\", \"content\": \"You are a helpful assistant designed to generate synthetic data.\"},\n",
    "    {\"role\": \"user\", \"content\": question}\n",
    "  ],\n",
    "  max_tokens=150,\n",
    "  temperature=0.8\n",
    ")\n",
    "res = response.choices[0].message.content\n",
    "print(res)\n",
    "\n",
    "import pandas as pd\n",
    "import csv\n",
    "with open('product_catalogue.csv', 'w') as file:\n",
    "    #file.write('\\n'.join(data) + '\\n')\n",
    "    file.write(res)\n"
   ]
  }
 ],
 "metadata": {
  "kernelspec": {
   "display_name": "myenv",
   "language": "python",
   "name": "python3"
  },
  "language_info": {
   "codemirror_mode": {
    "name": "ipython",
    "version": 3
   },
   "file_extension": ".py",
   "mimetype": "text/x-python",
   "name": "python",
   "nbconvert_exporter": "python",
   "pygments_lexer": "ipython3",
   "version": "3.12.4"
  }
 },
 "nbformat": 4,
 "nbformat_minor": 2
}
