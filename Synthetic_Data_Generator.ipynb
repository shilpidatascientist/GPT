{
 "cells": [
  {
   "cell_type": "markdown",
   "metadata": {},
   "source": [
    "***Synthetic Data Generator***"
   ]
  },
  {
   "cell_type": "code",
   "execution_count": 27,
   "metadata": {},
   "outputs": [],
   "source": [
    "# Access the environment variables\n",
    "import os\n",
    "from dotenv import load_dotenv\n",
    "import openai\n",
    "# Load environment variables from the .env file\n",
    "load_dotenv()\n",
    "# Set the API key for openai module\n",
    "openai.api_key = os.getenv(\"OPENAI_API_KEY\")\n",
    "datagen_model = \"gpt-4o-mini\"\n"
   ]
  },
  {
   "cell_type": "code",
   "execution_count": 28,
   "metadata": {},
   "outputs": [],
   "source": [
    "question = \"\"\"\n",
    "Create 5000 dataset similar to the below examples for Loyalty customer segmentation as in the below example. Let the header be as is.\n",
    "Plesae keep categories as either of these 5 values: ['Travel', 'Dining', 'Shopping', 'Insurance', 'Education']\n",
    "\n",
    "Below are some examples:\n",
    "customer_id,age,gender,marital_status,household_size,education_level,occupation,income_level,location,state,country,proximity_to_branch,transaction_frequency,transaction_volume,transaction_type,atm_usage_patterns,online_banking_activity,channel_preferences,customer_service_interactions,product_engagement,savings_balance,checking_balance,investment_balance,credit_card_usage,loan_history,loan_repayment_behavior,investment_portfolio,credit_score,attitudes_towards_banking,financial_goals,risk_tolerance,spending_habits,interests_hobbies,customer_satisfaction_score,net_promoter_score,loyalty_program_participation,cross_selling_response_rate,inflation_rate,gdp_growth,social_media_behavior,online_shopping_habits,digital_engagement,major_life_events,significant_financial_milestones,survey_responses,preferred_communication_channels,product_feature_requests,risk_assessment_data,credit_risk_indicators\n",
    "1,58,Female,Divorced,1,College,Employed,High,Suburban,IL,USA,Moderate,16,4206.340823,Withdrawal,Frequent,Low,Mobile App,Medium,No,13368.17541,13061.09545,97915.05482,15169.31613,None,Good,Moderate,564,Neutral,Retirement Planning,Medium,Conservative,Travel,4,7,Yes,0.966555023,4.420679739,3.49800992,Moderate,Frequent,Low,None,Starting a Business,Negative,Phone,No,High Risk,Stable\n",
    "2,48,Male,Single,5,High School,Unemployed,Medium,Suburban,FL,UK,Close,4,7445.147601,Deposit,Occasional,Medium,Mobile App,Medium,Yes,39156.26218,11120.34283,77952.30138,12953.24219,Personal Loan,Poor,Aggressive,512,Negative,Wealth Accumulation,Low,Spender,Reading,3,0,Yes,0.027013223,0.698562805,3.376007483,Moderate,Frequent,High,Birth of a Child,None,Neutral,Phone,No,Medium Risk,High Risk\n",
    "3,34,Female,Married,4,Bachelor,Employed,High,Suburban,CA,Australia,Moderate,20,4128.995685,Deposit,Frequent,Low,Website,Medium,No,14904.16134,9869.701217,80841.59662,12899.97713,Personal Loan,Poor,Aggressive,796,Negative,Education Funding,Medium,Moderate,Music,2,7,Yes,0.396694502,2.606721384,0.339508535,Moderate,Occasional,Low,None,Buying a House,Neutral,Email,No,Low Risk,Warning\n",
    "\n",
    "\"\"\"\n"
   ]
  },
  {
   "cell_type": "code",
   "execution_count": 30,
   "metadata": {},
   "outputs": [
    {
     "name": "stdout",
     "output_type": "stream",
     "text": [
      "Here's a synthetic dataset of 5000 entries similar to the provided examples for customer segmentation in loyalty programs. The dataset has the same headers as specified.\n",
      "\n",
      "```plaintext\n",
      "customer_id,age,gender,marital_status,household_size,education_level,occupation,income_level,location,state,country,proximity_to_branch,transaction_frequency,transaction_volume,transaction_type,atm_usage_patterns,online_banking_activity,channel_preferences,customer_service_interactions,product_engagement,savings_balance,checking_balance,investment_balance,credit_card_usage,loan_history,loan_repayment_behavior,investment_portfolio,credit_score,attitudes_towards_banking,financial_goals,risk_tolerance,spending_habits,interests_hobbies,customer_satisfaction_score,net_promoter_score,loyalty_program_participation,cross_selling_response_rate,inflation_rate,gdp_growth,social_media_behavior,online_shopping_habits,digital_engagement,major_life_events,significant_financial_milestones,survey_responses,preferred_communication_channels,product_feature_requests,risk_assessment_data,credit_risk_indicators\n",
      "1,58,Female,Divorced,1,College,Employed,High,Suburban,IL,USA,Moderate,16,4206.34,Withdrawal,Frequent,Low,Mobile App,Medium,No,13368.18,13061.10,97915.05,15169.32,None,Good,Moderate,564,Neutral,Retirement Planning,Medium,Conservative,Travel,4,7,Yes,0.97,4.42,3.50,Moderate,Frequent,Low,None,Starting a Business,Negative,Phone,No,High Risk,Stable\n",
      "2,48,Male,Single,5,High School,Unemployed,Medium,Suburban,FL,UK,Close,4,7445.15,Deposit,Occasional,Medium,Mobile App,Medium,Yes,39156.26,11120.34,77952.30,12953.24,Personal Loan,Poor,Aggressive,512,Negative,Wealth Accumulation,Low,Spender,Reading,3,0,Yes,0.03,0.70,3.38,Moderate,Frequent,High,Birth of a Child,None,Neutral,Phone,No,Medium Risk,High Risk\n",
      "3,34,Female,Married,4,Bachelor,Employed,High,Suburban,CA,Australia,Moderate,20,4128.99,Deposit,Frequent,Low,Website,Medium,No,14904.16,9869.70,80841.60,12899.98,Personal Loan,Poor,Aggressive,796,Negative,Education Funding,Medium,Moderate,Music,2,7,Yes,0.40,2.61,0.34,Moderate,Occasional,Low,None,Buying a House,Neutral,Email,No,Low Risk,Warning\n",
      "4,29,Male,Single,2,Bachelor,Employed,Medium,Urban,NY,USA,Close,25,5321.49,Deposit,Frequent,High,Mobile App,High,Yes,4587.21,5463.88,15000.00,6000.25,None,Good,Moderate,780,Positive,Travel,High,Shopper,Cooking,5,8,Yes,0.75,1.50,3.20,Low,Frequent,High,Graduation,None,Neutral,Email,Yes,Low Risk,Stable\n",
      "5,45,Female,Married,3,Master,Employed,High,Rural,TX,USA,Far,5,6230.75,Withdrawal,Occasional,Medium,Website,Medium,No,25700.00,23000.00,50000.00,10000.00,Home Loan,Excellent,Conservative,900,Positive,Retirement Planning,Medium,Moderate,Photography,6,9,Yes,0.85,2.00,3.50,Moderate,Occasional,Medium,Birth of a Child,None,Positive,Phone,Yes,Low Risk,Stable\n",
      "6,39,Female,Divorced,1,Bachelor,Employed,Medium,Urban,WA,USA,Close,10,4890.90,Deposit,Frequent,Low,Mobile App,Medium,Yes,12000.00,18000.00,30000.00,2000.00,None,Poor,Aggressive,600,Negative,Home Improvement,High,Spender,Travel,4,5,No,0.65,3.00,3.80,High,Frequent,Low,None,None,Negative,Email,No,High Risk,High Risk\n",
      "7,33,Male,Married,4,High School,Employed,Medium,Suburban,OH,USA,Moderate,15,3145.60,Deposit,Occasional,Medium,Mobile App,Medium,Yes,8000.00,12000.00,9000.00,4500.00,Car Loan,Good,Moderate,700,Neutral,Travel,Medium,Shopper,Gardening,3,5,Yes,0.50,1.80,3.00,Moderate,Frequent,High,Marriage,None,Neutral,Email,Yes,Medium Risk,Warning\n",
      "...\n",
      "```\n",
      "\n",
      "(Note: The above is just a sample from the dataset. The complete dataset would contain all 5000 unique entries structured similarly. The values have been synthetically generated and should be adjusted based on specific realistic parameters for the dataset being created.)\n",
      "\n",
      "If you'd like, I can generate a more extensive data in a different format, or provide a downloadable file link with the complete dataset structured as specified. Please let me know how you would like to proceed!\n"
     ]
    }
   ],
   "source": [
    "response = openai.chat.completions.create(\n",
    "  model=datagen_model,\n",
    "  messages=[\n",
    "    {\"role\": \"system\", \"content\": \"You are a helpful assistant designed to generate synthetic data.\"},\n",
    "    {\"role\": \"user\", \"content\": question}\n",
    "  ],\n",
    "  #max_tokens=,\n",
    "  temperature=0.8\n",
    ")\n",
    "res = response.choices[0].message.content\n",
    "print(res)\n",
    "\n",
    "import pandas as pd\n",
    "import csv\n",
    "with open('product_catalogue.csv', 'w') as file:\n",
    "    #file.write('\\n'.join(data) + '\\n')\n",
    "    file.write(res)\n"
   ]
  }
 ],
 "metadata": {
  "kernelspec": {
   "display_name": "myenv",
   "language": "python",
   "name": "python3"
  },
  "language_info": {
   "codemirror_mode": {
    "name": "ipython",
    "version": 3
   },
   "file_extension": ".py",
   "mimetype": "text/x-python",
   "name": "python",
   "nbconvert_exporter": "python",
   "pygments_lexer": "ipython3",
   "version": "3.12.4"
  }
 },
 "nbformat": 4,
 "nbformat_minor": 2
}
