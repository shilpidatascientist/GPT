{
 "cells": [
  {
   "cell_type": "code",
   "execution_count": 2,
   "metadata": {},
   "outputs": [],
   "source": [
    "# Access the environment variables\n",
    "import os\n",
    "from dotenv import load_dotenv\n",
    "import openai\n",
    "# Load environment variables from the .env file\n",
    "load_dotenv()\n",
    "# Set the API key for openai module\n",
    "openai.api_key = os.getenv(\"OPENAI_API_KEY\")\n",
    "datagen_model = \"gpt-4o-mini\"\n"
   ]
  },
  {
   "cell_type": "code",
   "execution_count": 3,
   "metadata": {},
   "outputs": [],
   "source": [
    "# Define test case generation function\n",
    "def generate_test_cases(requirement):\n",
    "    response = openai.chat.completions.create(\n",
    "      model=\"gpt-4o-mini\",\n",
    "      messages=[\n",
    "        {\"role\": \"system\", \"content\": \"You are a helpful assistant capable of generating software test cases for positive & negative flow in a tabular format.\"\n",
    "                                  \"Column Headers should be as:\" \n",
    "                                  \"1.Test Case ID , 2.Test Case flow , 3.Feature , 4.Test Case Description , 5.Input steps, 6.Expected Result \"\n",
    "                                  \"Do not add any extra characters like <br>,instead start the next point in new line.\"},\n",
    "        {\"role\": \"user\", \"content\": requirement}\n",
    "      ],\n",
    "      max_tokens=500,\n",
    "      temperature=0.8\n",
    "    )\n",
    "    return response.choices[0].message.content\n"
   ]
  },
  {
   "cell_type": "code",
   "execution_count": null,
   "metadata": {},
   "outputs": [],
   "source": [
    "requirement = \"The system shall allow users to securely login with a username and password.\"\n"
   ]
  },
  {
   "cell_type": "code",
   "execution_count": 4,
   "metadata": {},
   "outputs": [],
   "source": [
    "requirement1 = \"User Story: As a shopper on the ROSS retail website, I want to efficiently search for products so that users can enter keywords to receive relevant search results with product images, names, prices, and brief descriptions, view detailed product pages with larger images and specifications, and add items to their cart directly from search results or product pages.\"\n"
   ]
  },
  {
   "cell_type": "code",
   "execution_count": 5,
   "metadata": {},
   "outputs": [],
   "source": [
    "test_cases = generate_test_cases(requirement1)\n"
   ]
  },
  {
   "cell_type": "code",
   "execution_count": 6,
   "metadata": {},
   "outputs": [
    {
     "name": "stdout",
     "output_type": "stream",
     "text": [
      "| Test Case ID | Test Case flow  | Feature          | Test Case Description                                         | Input steps                                           | Expected Result                                           |\n",
      "|--------------|------------------|------------------|-------------------------------------------------------------|------------------------------------------------------|----------------------------------------------------------|\n",
      "| TC-001       | Positive Flow     | Search Products   | Validate that the search functionality returns relevant products | Go to the search bar, enter \"shoes\", click search   | Display a list of products related to \"shoes\" with images, names, prices, and brief descriptions |\n",
      "| TC-002       | Positive Flow     | Product Details    | Validate that clicking on a product opens the detailed page | Click on a product from the search results           | Redirect to the product details page with larger images and specifications |\n",
      "| TC-003       | Positive Flow     | Add to Cart       | Validate that users can add a product to the cart directly from the search results | Click \"Add to Cart\" on a product in search results   | The product is added to the cart, and a confirmation message is displayed |\n",
      "| TC-004       | Positive Flow     | Add to Cart       | Validate that users can add a product to the cart from the product details page | Open the product details page, click \"Add to Cart\"  | The product is added to the cart, and a confirmation message is displayed |\n",
      "| TC-005       | Negative Flow     | Search Products   | Validate search results when no products match the search keyword | Go to the search bar, enter \"xyz123\", click search   | Display a message indicating no products found for \"xyz123\" |\n",
      "| TC-006       | Negative Flow     | Add to Cart       | Validate that an error is displayed when trying to add an out-of-stock product to the cart | Open a product details page for an out-of-stock item, click \"Add to Cart\" | Display an error message indicating the product is out of stock |\n",
      "| TC-007       | Negative Flow     | Search Products   | Validate that the search is case insensitive         | Go to the search bar, enter \"SHOES\", click search   | Display a list of products related to \"shoes\" with images, names, prices, and brief descriptions |\n",
      "| TC-008       | Positive Flow     | Search Products   | Validate that users can filter search results by category  | Go to the search bar, enter \"bags\", select category \"Accessories\", click search | Display a list of accessories related to\n"
     ]
    }
   ],
   "source": [
    "print(test_cases)\n"
   ]
  },
  {
   "cell_type": "code",
   "execution_count": null,
   "metadata": {},
   "outputs": [],
   "source": [
    "import pandas as pd\n",
    "import csv\n",
    "with open('test_cases_2.csv', 'w') as file:\n",
    "    #file.write('\\n'.join(data) + '\\n')\n",
    "    file.write(test_cases)\n"
   ]
  },
  {
   "cell_type": "code",
   "execution_count": null,
   "metadata": {},
   "outputs": [],
   "source": [
    "test_cases_1 = pd.read_csv(r'C:\\Users\\shilpi.agrawal\\Desktop\\AI_Retails\\GPT-4omini\\test_cases_1.csv', sep='|')\n"
   ]
  }
 ],
 "metadata": {
  "kernelspec": {
   "display_name": "venv",
   "language": "python",
   "name": "python3"
  },
  "language_info": {
   "codemirror_mode": {
    "name": "ipython",
    "version": 3
   },
   "file_extension": ".py",
   "mimetype": "text/x-python",
   "name": "python",
   "nbconvert_exporter": "python",
   "pygments_lexer": "ipython3",
   "version": "3.12.4"
  }
 },
 "nbformat": 4,
 "nbformat_minor": 2
}
