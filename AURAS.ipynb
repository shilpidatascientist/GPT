{
 "cells": [
  {
   "cell_type": "markdown",
   "metadata": {},
   "source": [
    "***RAG with multiple sources and***\n",
    "***Agent Tool based custom chatbot***"
   ]
  },
  {
   "cell_type": "code",
   "execution_count": 143,
   "metadata": {},
   "outputs": [],
   "source": [
    "# Access the environment variables\n",
    "import os\n",
    "from langchain_openai import ChatOpenAI\n",
    "#from langchain.chat_models import ChatOpenAI\n",
    "from dotenv import load_dotenv\n",
    "# Load environment variables from the .env file\n",
    "load_dotenv()\n",
    "llm = ChatOpenAI(model=\"gpt-4o-mini\" ,temperature=0.8)\n",
    "# Access the environment variables\n",
    "os.environ['OPENAI_API_KEY']=os.getenv(\"OPENAI_API_KEY\")\n"
   ]
  },
  {
   "cell_type": "code",
   "execution_count": 156,
   "metadata": {},
   "outputs": [
    {
     "name": "stderr",
     "output_type": "stream",
     "text": [
      "100%|██████████| 11/11 [00:01<00:00,  9.62it/s]\n"
     ]
    }
   ],
   "source": [
    "# Document loader (full directory - only docx)\n",
    "from langchain_community.document_loaders import DirectoryLoader\n",
    "path = '../GPT-4omini/data/'\n",
    "docs_loader = DirectoryLoader(path, glob=\"**/*.docx\",show_progress=True)\n",
    "docs = docs_loader.load()\n"
   ]
  },
  {
   "cell_type": "code",
   "execution_count": 157,
   "metadata": {},
   "outputs": [
    {
     "name": "stderr",
     "output_type": "stream",
     "text": [
      "Overwriting cache for 0 1974\n"
     ]
    }
   ],
   "source": [
    "# Document loader (only pdf)\n",
    "from langchain_community.document_loaders import PyPDFDirectoryLoader\n",
    "pdf_loader = PyPDFDirectoryLoader(path, glob=\"**/*.pdf\")\n",
    "pdf_docs = pdf_loader.load()\n"
   ]
  },
  {
   "cell_type": "code",
   "execution_count": 158,
   "metadata": {},
   "outputs": [],
   "source": [
    "# Combining both pdf & docs\n",
    "total_docs = docs + pdf_docs\n",
    "# Splitting into chunks\n",
    "from langchain.text_splitter import RecursiveCharacterTextSplitter\n",
    "text_splitter=RecursiveCharacterTextSplitter(chunk_size=1000,chunk_overlap=200)\n",
    "documents=text_splitter.split_documents(total_docs)\n"
   ]
  },
  {
   "cell_type": "code",
   "execution_count": 159,
   "metadata": {},
   "outputs": [],
   "source": [
    "## Store into FAISS Vector Database\n",
    "from langchain_community.vectorstores import FAISS\n",
    "from langchain_openai import OpenAIEmbeddings\n",
    "## Vector embedding for text chunks\n",
    "db1 = FAISS.from_documents(documents, OpenAIEmbeddings())\n",
    "retriever1 = db1.as_retriever()\n"
   ]
  },
  {
   "cell_type": "code",
   "execution_count": 154,
   "metadata": {},
   "outputs": [],
   "source": [
    "# URL loader & Text loader\n",
    "from langchain_community.document_loaders import TextLoader\n",
    "url_path = '../GPT-4omini/URLs.txt'\n",
    "text_loader = TextLoader(url_path)\n",
    "urls = text_loader.load()\n",
    "\n",
    "from langchain_community.document_loaders import UnstructuredURLLoader\n",
    "#urls = [\"https://www.aspiresys.com/articles/composable-commerce-build-buy-strategy/index.html\",\n",
    "        #\"https://blog.aspiresys.com/retail/monoliths-to-composable-commerce/\",]\n",
    "#url_loader = UnstructuredURLLoader(urls=urls)\n",
    "# Split the combined text into individual URLs\n",
    "url_loader = UnstructuredURLLoader(urls=urls[0].page_content.splitlines())\n",
    "data = url_loader.load()\n",
    "# Splitting into chunks\n",
    "from langchain.text_splitter import RecursiveCharacterTextSplitter\n",
    "text_splitter=RecursiveCharacterTextSplitter(chunk_size=1000,chunk_overlap=200)\n",
    "online_data=text_splitter.split_documents(data)\n",
    "## FAISS Vector Database\n",
    "from langchain_community.vectorstores import FAISS\n",
    "## Vector embedding for text chunks\n",
    "db2 = FAISS.from_documents(online_data, OpenAIEmbeddings())\n",
    "retriever2 = db2.as_retriever()\n"
   ]
  },
  {
   "cell_type": "code",
   "execution_count": 155,
   "metadata": {},
   "outputs": [
    {
     "data": {
      "text/plain": [
       "['https://www.ignitiv.com/from-monolith-to-composable-commerce/',\n",
       " 'https://commercetools.com/blog/from-monolith-to-microservices-migrating-to-a-composable-commerce-architecture-in-only-7-steps',\n",
       " 'https://alokai.com/blog/from-monolith-to-composable-commerce-the-ultimate-migration-guide',\n",
       " 'https://fimple.co.uk/how-to-convert-monolithic-architecture-to-microservices-architecture-strangler-pattern/',\n",
       " 'https://brainhub.eu/library/monolith-to-microservices-using-strangler-pattern',\n",
       " 'https://dzone.com/articles/monolith-to-microservices-with-the-strangler-patte',\n",
       " 'https://samirbehara.com/2018/09/10/monolith-to-microservices-using-strangler-pattern/',\n",
       " 'https://amplication.com/blog/monoliths-to-microservices-using-the-strangler-pattern',\n",
       " 'https://insights.sei.cmu.edu/blog/8-steps-for-migrating-existing-applications-to-microservices/',\n",
       " 'https://www.bolt.com/thinkshop/ecommerce-replatforming-migration',\n",
       " 'https://www.aspiresys.com/composable-commerce-navigating-build/',\n",
       " 'https://blog.aspiresys.com/retail/monoliths-to-composable-commerce/',\n",
       " 'https://www.aspiresys.com/articles/composable-commerce-build-buy-strategy/index.html',\n",
       " 'https://blog.aspiresys.com/retail/evolution-of-ecommerce-platforms/',\n",
       " 'https://blog.aspiresys.com/retail/the-future-of-ecommerce-and-technical-benefits-of-composable-commerce/',\n",
       " 'https://blog.aspiresys.com/retail/api-gateway-deployment-patterns-in-composable-commerce/',\n",
       " 'https://blog.aspiresys.com/retail/building-and-buying-in-composable-commerce/',\n",
       " 'https://blog.aspiresys.com/retail/strategic-shift-from-monolithic-to-composable-systems/',\n",
       " 'https://blog.aspiresys.com/retail/auras-a-new-era-of-composable-commerce/',\n",
       " 'https://www.bairesdev.com/blog/outsourcing-risks-threat-of-vendor-lock-in/',\n",
       " 'https://www.techtarget.com/searchdatacenter/definition/vendor-lock-in',\n",
       " 'https://kestra.io/blogs/2023-10-30-top-data-orchestration-platforms',\n",
       " 'https://fabric.inc/blog/developer/data-orchestration-ecommerce',\n",
       " 'https://commercetools.com/blog/mastering-omnichannel-commerce-with-an-api-orchestration-layer']"
      ]
     },
     "execution_count": 155,
     "metadata": {},
     "output_type": "execute_result"
    }
   ],
   "source": [
    "urls[0].page_content.splitlines()\n"
   ]
  },
  {
   "cell_type": "code",
   "execution_count": 160,
   "metadata": {},
   "outputs": [],
   "source": [
    "# Create Retriever tool\n",
    "from langchain.tools.retriever import create_retriever_tool\n",
    "retriever_tool1 = create_retriever_tool(\n",
    "    retriever1,\n",
    "    \"doc_search\",\n",
    "    \"Search for information from documents, you must use this tool!\",\n",
    ")\n",
    "retriever_tool2 = create_retriever_tool(\n",
    "    retriever2,\n",
    "    \"url_search\",\n",
    "    \"Search for information from the internet, you must use this tool!\",\n",
    ")\n",
    "#tools\n",
    "tools = [retriever_tool1, retriever_tool2]\n"
   ]
  },
  {
   "cell_type": "code",
   "execution_count": 183,
   "metadata": {},
   "outputs": [],
   "source": [
    "# create_tool_calling_agent\n",
    "from langchain_core.prompts import ChatPromptTemplate\n",
    "from langchain.agents import AgentExecutor, create_tool_calling_agent\n",
    "# Adapted from https://smith.langchain.com/hub/jacob/tool-calling-agent\n",
    "prompt = ChatPromptTemplate.from_messages(\n",
    "    [\n",
    "        (\n",
    "            \"system\",\n",
    "            \"You are a helpful assistant. You need to use tools for every user's query.Do not answer anything beyond the scope of the two tools.\",\n",
    "            #First search into retrieve_1 and if information is not found then search into retrieve_2\",\n",
    "        ),\n",
    "        (\"placeholder\", \"{messages}\"),\n",
    "        (\"placeholder\", \"{agent_scratchpad}\"),\n",
    "    ]\n",
    ")\n",
    "tools = [retriever_tool1, retriever_tool2]\n",
    "\n",
    "agent = create_tool_calling_agent(llm, tools, prompt)\n",
    "agent_executor = AgentExecutor(agent=agent, tools=tools, verbose=True)\n"
   ]
  },
  {
   "cell_type": "code",
   "execution_count": 184,
   "metadata": {},
   "outputs": [
    {
     "name": "stdout",
     "output_type": "stream",
     "text": [
      "\n",
      "\n",
      "\u001b[1m> Entering new AgentExecutor chain...\u001b[0m\n",
      "\u001b[32;1m\u001b[1;3m\n",
      "Invoking: `url_search` with `{'query': 'how to avoid vendor lock-in consequences'}`\n",
      "\n",
      "\n",
      "\u001b[0m\u001b[33;1m\u001b[1;3mAvoid contracts containing clauses that make it difficult or impossible to switch providers. Before signing a contract, be sure to read it carefully and understand all the terms and conditions. If there are any clauses that you do not understand, ask the vendor to explain them to you.\n",
      "\n",
      "Be prepared to switch providers. If you are not happy with the product or service that you are using, be prepared to switch providers. This may involve incurring some costs, but it may be worth it in the long run if it means that you can get a better product or service.\n",
      "\n",
      "Vendor lock-in is a serious problem that can have a number of negative consequences for customers. By taking steps to avoid vendor lock-in, customers can protect themselves from these risks and ensure that they are getting the best possible value for their money.\n",
      "\n",
      "Reduced flexibility. Vendor lock-in can reduce the customer's flexibility to choose the best products and services for its needs. This is because the customer may be limited to using products and services from the vendor that it is locked into.\n",
      "\n",
      "Inability to switch. Vendor lock-in can increase the customer's risk of being locked into a product or service that does not meet its needs. This is because the customer may be unable to switch to a different product or service without incurring significant costs.\n",
      "\n",
      "How to avoid vendor lock-in\n",
      "\n",
      "There are several things that customers can do to avoid vendor lock-in, including the following:\n",
      "\n",
      "Choose products and services that use open standards. Open standards are standards that are not controlled by any one vendor. This means that products and services that use open standards are more likely to be compatible with those of other vendors.\n",
      "\n",
      "Contractual obligations. Some contracts may contain clauses that make it difficult or impossible to switch to a different provider. For example, a contract may require the customer to pay a termination fee if it switches providers before the end of the contract term.\n",
      "\n",
      "Inertia. Once a customer has invested time and money in a particular product or service, it may be reluctant to switch to a different product or service, even if it would be in its best interests to do so.\n",
      "\n",
      "The risks of vendor lock-in\n",
      "\n",
      "Vendor lock-in can have a few negative consequences for customers, including the following:\n",
      "\n",
      "Higher costs. If a customer is locked into a particular product or service, it may be forced to pay higher prices than it would if it was able to switch to a different provider. This is because the vendor knows that the customer has no other choice but to stay.\n",
      "\n",
      "See four best practices to avoid cloud vendor lock-in, and get to know the risk of hyper-converged vendor lock-in. Weigh the benefits of PaaS providers against lock-in risks, explore how to beat vendor lock-in with a cloud exit strategy and see five multi-cloud storage management mistakes to avoid, including vendor lock-in.\n",
      "\n",
      "This was last updated in May 2023\n",
      "\n",
      "Continue Reading About vendor lock-in\n",
      "\n",
      "Why enterprises choose multi-cloud environments\n",
      "\n",
      "Cloud lock-in fears aren't as prevalent as you might think\n",
      "\n",
      "Advantages and disadvantages of storing data in the cloud\n",
      "\n",
      "IaaS and PaaS blurred lines increase lock-in risks\n",
      "\n",
      "Metaverse interoperability challenges and impact\n",
      "\n",
      "Related Terms\n",
      "\n",
      "Dig Deeper on Data center careers, staffing and certifications\n",
      "\n",
      "Breaking Free From Vendor Lock-in with Managed Services\n",
      "\n",
      "By: Tony Lock\n",
      "\n",
      "GenAI complicates IT vendor management\n",
      "\n",
      "By: John Moore\n",
      "\n",
      "enterprise IT (enterprise-class IT)\n",
      "\n",
      "By: Gavin Wright\n",
      "\n",
      "A SaaS evaluation checklist to choose the right provider\u001b[0m\u001b[32;1m\u001b[1;3mTo avoid the negative consequences of vendor lock-in, consider the following best practices:\n",
      "\n",
      "1. **Choose Open Standards**: Opt for products and services that adhere to open standards, as these are more likely to be compatible with offerings from other vendors, facilitating easier transitions if needed.\n",
      "\n",
      "2. **Read Contracts Carefully**: Before signing any agreements, thoroughly review the terms and conditions. Be aware of clauses that may impose penalties for switching providers, such as termination fees.\n",
      "\n",
      "3. **Be Prepared to Switch**: Assess your current solutions regularly and be ready to change vendors if necessary. This could involve some initial costs, but it may lead to better long-term value.\n",
      "\n",
      "4. **Avoid Inertia**: Recognize the potential for inertia after investing in a product or service. Stay informed about alternatives and be willing to make changes if they better meet your needs.\n",
      "\n",
      "By implementing these strategies, you can help protect yourself from the risks associated with vendor lock-in, ensuring greater flexibility and potentially lower costs.\u001b[0m\n",
      "\n",
      "\u001b[1m> Finished chain.\u001b[0m\n",
      "{'messages': [HumanMessage(content='What are the best ways to avoid the negative consequences of vendor lock-in.?')], 'output': 'To avoid the negative consequences of vendor lock-in, consider the following best practices:\\n\\n1. **Choose Open Standards**: Opt for products and services that adhere to open standards, as these are more likely to be compatible with offerings from other vendors, facilitating easier transitions if needed.\\n\\n2. **Read Contracts Carefully**: Before signing any agreements, thoroughly review the terms and conditions. Be aware of clauses that may impose penalties for switching providers, such as termination fees.\\n\\n3. **Be Prepared to Switch**: Assess your current solutions regularly and be ready to change vendors if necessary. This could involve some initial costs, but it may lead to better long-term value.\\n\\n4. **Avoid Inertia**: Recognize the potential for inertia after investing in a product or service. Stay informed about alternatives and be willing to make changes if they better meet your needs.\\n\\nBy implementing these strategies, you can help protect yourself from the risks associated with vendor lock-in, ensuring greater flexibility and potentially lower costs.'}\n"
     ]
    }
   ],
   "source": [
    "from langchain_core.messages import HumanMessage\n",
    "\n",
    "response = agent_executor.invoke({\"messages\": [HumanMessage(content=\"What are the best ways to avoid the negative consequences of vendor lock-in.?\")]})\n",
    "print(response)\n"
   ]
  }
 ],
 "metadata": {
  "kernelspec": {
   "display_name": "myenv",
   "language": "python",
   "name": "python3"
  },
  "language_info": {
   "codemirror_mode": {
    "name": "ipython",
    "version": 3
   },
   "file_extension": ".py",
   "mimetype": "text/x-python",
   "name": "python",
   "nbconvert_exporter": "python",
   "pygments_lexer": "ipython3",
   "version": "3.12.4"
  }
 },
 "nbformat": 4,
 "nbformat_minor": 2
}
